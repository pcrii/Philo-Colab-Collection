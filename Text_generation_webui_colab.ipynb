{
  "cells": [
    {
      "cell_type": "markdown",
      "metadata": {
        "id": "view-in-github",
        "colab_type": "text"
      },
      "source": [
        "<a href=\"https://colab.research.google.com/github/pcrii/Philo-Colab-Collection/blob/main/Text_generation_webui_colab.ipynb\" target=\"_parent\"><img src=\"https://colab.research.google.com/assets/colab-badge.svg\" alt=\"Open In Colab\"/></a>"
      ]
    },
    {
      "cell_type": "code",
      "source": [
        "# @title Install\n",
        "# @markdown Save to Google drive?\n",
        "Gdrive = True # @param {type:\"boolean\"}\n",
        "if Gdrive:\n",
        "  from google.colab import drive\n",
        "  drive.mount('/content/drive')\n",
        "  %cd /content/drive/MyDrive\n",
        "  !git clone https://github.com/oobabooga/text-generation-webui\n",
        "  %cd ./text-generation-webui\n",
        "  !git pull\n",
        "  !pip install -r requirements.txt\n",
        "else:\n",
        "  %cd /content\n",
        "  !git clone https://github.com/oobabooga/text-generation-webui\n",
        "  %cd /content/text-generation-webui\n",
        "  !pip install -r requirements.txt\n"
      ],
      "metadata": {
        "cellView": "form",
        "id": "PNmaDQytZBe3"
      },
      "execution_count": null,
      "outputs": []
    },
    {
      "cell_type": "code",
      "source": [
        "# @title Run\n",
        "#@markdown  model tab of the webui will allow you to download models found\n",
        "#@markdown on https://huggingface.co/models?pipeline_tag=text-generation i recommend GPTQ models from https://huggingface.co/TheBloke\n",
        "!python server.py --share"
      ],
      "metadata": {
        "cellView": "form",
        "id": "SZcw6tZUZ-Lp"
      },
      "execution_count": null,
      "outputs": []
    }
  ],
  "metadata": {
    "accelerator": "GPU",
    "colab": {
      "provenance": [],
      "include_colab_link": true
    },
    "gpuClass": "standard",
    "kernelspec": {
      "display_name": "Python 3",
      "name": "python3"
    },
    "language_info": {
      "name": "python"
    }
  },
  "nbformat": 4,
  "nbformat_minor": 0
}
