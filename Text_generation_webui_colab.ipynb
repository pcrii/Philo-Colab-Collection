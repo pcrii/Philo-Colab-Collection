{
  "cells": [
    {
      "cell_type": "markdown",
      "metadata": {
        "id": "view-in-github",
        "colab_type": "text"
      },
      "source": [
        "<a href=\"https://colab.research.google.com/github/pcrii/Philo-Colab-Collection/blob/main/Text_generation_webui_colab.ipynb\" target=\"_parent\"><img src=\"https://colab.research.google.com/assets/colab-badge.svg\" alt=\"Open In Colab\"/></a>"
      ]
    },
    {
      "cell_type": "code",
      "source": [
        "# @title Install\n",
        "# @markdown Save to Google drive?\n",
        "Gdrive = True # @param {type:\"boolean\"}\n",
        "if Gdrive:\n",
        "  from google.colab import drive\n",
        "  drive.mount('/content/drive')\n",
        "  %cd /content/drive/MyDrive\n",
        "  !git clone https://github.com/oobabooga/text-generation-webui\n",
        "  %cd ./text-generation-webui\n",
        "  !git pull\n",
        "  !pip install -r requirements.txt\n",
        "else:\n",
        "  %cd /content\n",
        "  !git clone https://github.com/oobabooga/text-generation-webui\n",
        "  %cd /content/text-generation-webui\n",
        "  !pip install -r requirements.txt\n"
      ],
      "metadata": {
        "id": "PNmaDQytZBe3",
        "cellView": "form"
      },
      "execution_count": null,
      "outputs": []
    },
    {
      "cell_type": "code",
      "source": [
        "# @title Download Model (you can optionally skip and use the model tab of the interface)\n",
        "# @markdown Select a huggingface repo. if your model isnt included in the dropdown list you can paste into the input. i recommend GPTQ models from https://huggingface.co/TheBloke\n",
        "modelrepo = \"TheBloke/Chronorctypus-Limarobormes-13b-GPTQ\" # @param [\"TheBloke/vicuna-13B-v1.5-16K-GPTQ\", \"TheBloke/MythoMix-L2-13B-GPTQ\", \"TheBloke/chronos-hermes-13B-GPTQ\", \"TheBloke/WizardLM-1.0-Uncensored-Llama2-13B-GPTQ\", \"TheBloke/OpenOrca-Platypus2-13B-GPTQ\", \"TheBloke/Huginn-v3-13B-GPTQ\", \"TheBloke/Chronorctypus-Limarobormes-13b-GPTQ\"] {allow-input: true}\n",
        "branch = \"gptq-4bit-32g-actorder_True\" # @param [\"main\", \"gptq-4bit-32g-actorder_True\", \"gptq-8bit--1g-actorder_True\"] {allow-input: true}\n",
        "%cd /content/drive/MyDrive/text-generation-webui\n",
        "!python download-model.py \"{modelrepo}\" --branch \"{branch}\""
      ],
      "metadata": {
        "id": "NLbj-BXW0BXu",
        "cellView": "form"
      },
      "execution_count": null,
      "outputs": []
    },
    {
      "cell_type": "code",
      "source": [
        "# @title Run (model not pre-loaded)\n",
        "#@markdown  model tab of the webui will allow you to select from downloaded models to load\n",
        "#@markdown\n",
        "!python server.py --share"
      ],
      "metadata": {
        "cellView": "form",
        "id": "SZcw6tZUZ-Lp"
      },
      "execution_count": null,
      "outputs": []
    }
  ],
  "metadata": {
    "colab": {
      "provenance": [],
      "gpuType": "T4",
      "include_colab_link": true
    },
    "kernelspec": {
      "display_name": "Python 3",
      "name": "python3"
    },
    "language_info": {
      "name": "python"
    },
    "accelerator": "GPU"
  },
  "nbformat": 4,
  "nbformat_minor": 0
}